{
 "cells": [
  {
   "cell_type": "markdown",
   "metadata": {},
   "source": [
    "# Imports"
   ]
  },
  {
   "cell_type": "code",
   "execution_count": 1,
   "metadata": {},
   "outputs": [],
   "source": [
    "import math\n",
    "import struct\n",
    "import numpy as np\n",
    "import matplotlib.pyplot as plt\n"
   ]
  },
  {
   "cell_type": "markdown",
   "metadata": {},
   "source": [
    "# This is the normal cordic implementation"
   ]
  },
  {
   "cell_type": "code",
   "execution_count": 2,
   "metadata": {},
   "outputs": [
    {
     "name": "stdout",
     "output_type": "stream",
     "text": [
      "actual Value: 0.42261826174069944\n",
      "\n",
      "z: 0.0, x: 0.6072529350089055, y: 0.0\n",
      "too small\n",
      "z: 45.0, x: 0.6072529350089055, y: 0.6072529350089055\n",
      "too small\n",
      "z: 71.56505118000001, x: 0.30362646750445277, y: 0.9108794025133583\n",
      "too big\n",
      "z: 57.52880771, x: 0.5313463181327923, y: 0.8349727856372451\n",
      "too small\n",
      "z: 64.653824059, x: 0.4269747199281367, y: 0.9013910754038441\n",
      "too small\n",
      "z: 68.23015843400002, x: 0.3706377777153964, y: 0.9280769953993526\n",
      "too big\n",
      "z: 66.44024782600002, x: 0.3996401838216262, y: 0.9164945648457465\n",
      "too big\n",
      "z: 65.54507411600001, x: 0.41396041139734097, y: 0.9102501869735337\n",
      "too big\n",
      "\n",
      "Predicted Value: z = 65.09745994500003 with cos(x) = 0.4210717409830717, with actual value of predicted: 0.42107602432189006\n",
      "The result will have a sign of: 1\n"
     ]
    }
   ],
   "source": [
    "angles_degrees = [45.0,        # 0.785398\n",
    "                  26.56505118, # 0.46364760905065\n",
    "                  14.03624347, # 0.24497866316245\n",
    "                  7.125016349, # 0.1243549945481669\n",
    "                  3.576334375, # 0.062418809995849\n",
    "                  1.789910608, # 0.031239833425896\n",
    "                  0.89517371,  # 0.01562372861675\n",
    "                  0.447614171, # 0.0078123410625155\n",
    "                  0.2239105,   # 0.003907975454777\n",
    "                  0.111905677, # 0.0019531225153184\n",
    "                  0.055952892, # 0.00097656219141037\n",
    "                  0.027976453, # 0.00048828121787823\n",
    "                  0.013988227, # 0.00024414061766576\n",
    "                  0.006994114, # 0.000122070317559528\n",
    "                  0.003497057, # 6.103515877976e-5\n",
    "                  0.001748528  # 3.051757066324e-5\n",
    "                  ]\n",
    "\n",
    "\n",
    "\n",
    "def scale_input(angle):\n",
    "    # Ensure angle is within the range [-pi, pi)\n",
    "    angle = angle % (2 * math.pi)\n",
    "    # Ensure angle is positive\n",
    "    if angle < 0:\n",
    "        angle += 2 * math.pi\n",
    "    \n",
    "    # Determine the number of pi/2 rotations needed to bring the angle to the first quadrant\n",
    "    num_rotations = math.floor(angle / (0.5 * math.pi))\n",
    "    \n",
    "    # Compute the scaled angle in the first quadrant\n",
    "    scaled_angle = angle - num_rotations * (0.5 * math.pi)\n",
    "    \n",
    "    # Determine the sign based on the number of rotations\n",
    "    sign = 1 if num_rotations % 2 == 0 else - 1\n",
    "    \n",
    "    return scaled_angle, sign\n",
    "\n",
    "def CORDIC_TEST(angle_deg):\n",
    "      \n",
    "    #a test of cordic\n",
    "    print(f\"actual Value: {math.cos(math.radians(angle_deg))}\\n\")\n",
    "    \n",
    "    angle = math.radians(angle_deg)\n",
    "    angle, sign = scale_input(angle)\n",
    "    angles_radians = [math.radians(i) for i in angles_degrees]\n",
    "    \n",
    "    z = 0.0                     # angle\n",
    "    x = 1.0 / 1.646760258121    # x\n",
    "    y = 0.0                     # y\n",
    "    #fix 7 iterations\n",
    "    for i in range(8):\n",
    "        print(f\"z: {math.degrees(z)}, x: {x}, y: {y}\")\n",
    "        if (z < angle):\n",
    "            print(\"too small\")\n",
    "            z = z + angles_radians[i]\n",
    "            x_plus = x - (y * 2 ** (-i))\n",
    "            y_plus = y + (x * 2 ** (-i))\n",
    "            \n",
    "        elif (z > angle):\n",
    "            print(\"too big\")\n",
    "            z = z - angles_radians[i]\n",
    "            x_plus = x + (y * 2 ** (-i))\n",
    "            y_plus = y - (x * 2 ** (-i))\n",
    "            \n",
    "        else:\n",
    "            print(f\"Exact, Predicted Value: z = {math.degrees(z)} with cos(x) = {x}\")\n",
    "            return\n",
    "        \n",
    "\n",
    "        x = x_plus\n",
    "        y = y_plus\n",
    "        \n",
    "    print(f\"\\nPredicted Value: z = {math.degrees(z)} with cos(x) = {x}, with actual value of predicted: {math.cos(z)}\")\n",
    "    print(f\"The result will have a sign of: {sign}\")\n",
    "    \n",
    "    \n",
    "\n",
    "CORDIC_TEST(65.0)\n",
    "\n",
    "\n",
    "\n"
   ]
  },
  {
   "cell_type": "markdown",
   "metadata": {},
   "source": [
    "# Changable Parameters for my Implementation"
   ]
  },
  {
   "cell_type": "code",
   "execution_count": 21,
   "metadata": {},
   "outputs": [],
   "source": [
    "INT_BITS = 8\n",
    "FRAC_BITS = 4\n",
    "NUM_CORDIC_LOOPS = 8\n",
    "\n"
   ]
  },
  {
   "cell_type": "markdown",
   "metadata": {},
   "source": [
    "# my new cordic"
   ]
  },
  {
   "cell_type": "code",
   "execution_count": 23,
   "metadata": {},
   "outputs": [
    {
     "name": "stdout",
     "output_type": "stream",
     "text": [
      "9992342\n",
      "-9795423\n",
      "0\n",
      "2342\n",
      "\n",
      "\n",
      "\n",
      "0.5253219888177297\n",
      "-1639.185567945242\n"
     ]
    }
   ],
   "source": [
    "def float_to_fixed(number, IB=INT_BITS, FB=FRAC_BITS):\n",
    "    return int(number * (10 ** FB))\n",
    "\n",
    "def fixed_to_float(fixed, IB=INT_BITS, FB=FRAC_BITS):\n",
    "    # Calculate the fractional multiplier\n",
    "    multiplier = 1.0 / (2 ** FB)\n",
    "    \n",
    "    # Convert the fixed-point number to floating-point by dividing it by the multiplier\n",
    "    floating_point = fixed * multiplier\n",
    "    \n",
    "    return floating_point\n",
    "\n",
    "\n",
    "def my_cordic(target_input, IB=INT_BITS, FB=FRAC_BITS):\n",
    "    \n",
    "    angles_radians = [float_to_fixed(math.radians(i)) for i in angles_degrees]\n",
    "    angle = 0\n",
    "    x = float_to_fixed(1.0 / 1.646760258121)\n",
    "    y = 0 \n",
    "    target = float_to_fixed(target_input)\n",
    "\n",
    "    for i in range(NUM_CORDIC_LOOPS):\n",
    "        if (target == angle):\n",
    "            print(f\"early termination, {x}\")\n",
    "            return x\n",
    "        else:\n",
    "            if (target > angle):\n",
    "                \n",
    "                angle = angle + angles_radians[i]\n",
    "                x_plus = x - (y * 2 ** (-i))\n",
    "                y_plus = y + (x * 2 ** (-i))\n",
    "                x = x_plus\n",
    "                y = y_plus\n",
    "            else:\n",
    "                angle = angle + angles_radians[i]\n",
    "                x_plus = x - (y * 2 ** (-i))\n",
    "                y_plus = y + (x * 2 ** (-i))\n",
    "                x = x_plus\n",
    "                y = y_plus\n",
    "    return x\n",
    "    \n",
    "    \n",
    "print(float_to_fixed(999.23425234121231))\n",
    "print(float_to_fixed(-979.54234215234))\n",
    "print(float_to_fixed(0))\n",
    "print(float_to_fixed(float(0.234298123811237123)))\n",
    "print(\"\\n\\n\")\n",
    "\n",
    "print(math.cos(45))\n",
    "print(my_cordic(45))"
   ]
  }
 ],
 "metadata": {
  "kernelspec": {
   "display_name": "Python 3",
   "language": "python",
   "name": "python3"
  },
  "language_info": {
   "codemirror_mode": {
    "name": "ipython",
    "version": 3
   },
   "file_extension": ".py",
   "mimetype": "text/x-python",
   "name": "python",
   "nbconvert_exporter": "python",
   "pygments_lexer": "ipython3",
   "version": "3.10.11"
  }
 },
 "nbformat": 4,
 "nbformat_minor": 2
}
