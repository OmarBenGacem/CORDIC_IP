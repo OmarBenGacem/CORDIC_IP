{
 "cells": [
  {
   "cell_type": "code",
   "execution_count": 2,
   "metadata": {},
   "outputs": [
    {
     "name": "stdout",
     "output_type": "stream",
     "text": [
      "actual Value: 0.7431448254773942\n",
      "\n",
      "z: 0.0, x: 0.6072529350089055, y: 0.0\n",
      "too small\n",
      "z: 45.0, x: 0.6072529350089055, y: 0.6072529350089055\n",
      "too big\n",
      "z: 18.434948819999995, x: 0.9108794025133583, y: 0.30362646750445277\n",
      "too small\n",
      "z: 32.47119229, x: 0.8349727856372451, y: 0.5313463181327923\n",
      "too small\n",
      "z: 39.596208639, x: 0.7685544958706461, y: 0.635717916337448\n",
      "too small\n",
      "z: 43.172543014, x: 0.7288221260995555, y: 0.6837525723293634\n",
      "too big\n",
      "z: 41.382632406, x: 0.7501893939848482, y: 0.6609768808887523\n",
      "too small\n",
      "z: 42.277806115999994, x: 0.7398616302209614, y: 0.6726985901697655\n",
      "too big\n",
      "\n",
      "Approxamated Angle: 41.830191944999996 with cos(z) = 0.7451170879566626,\n",
      "with actual value: 0.7451246676818224\n",
      "The result will have a sign of: 1\n"
     ]
    }
   ],
   "source": [
    "import math\n",
    "import struct\n",
    "angles_degrees = [45.0,        # 0.785398\n",
    "                  26.56505118, # 0.46364760905065\n",
    "                  14.03624347, # 0.24497866316245\n",
    "                  7.125016349, # 0.1243549945481669\n",
    "                  3.576334375, # 0.062418809995849\n",
    "                  1.789910608, # 0.031239833425896\n",
    "                  0.89517371,  # 0.01562372861675\n",
    "                  0.447614171, # 0.0078123410625155\n",
    "                  0.2239105,   # 0.003907975454777\n",
    "                  0.111905677, # 0.0019531225153184\n",
    "                  0.055952892, # 0.00097656219141037\n",
    "                  0.027976453, # 0.00048828121787823\n",
    "                  0.013988227, # 0.00024414061766576\n",
    "                  0.006994114, # 0.000122070317559528\n",
    "                  0.003497057, # 6.103515877976e-5\n",
    "                  0.001748528  # 3.051757066324e-5\n",
    "                  ]\n",
    "\n",
    "\n",
    "\n",
    "def scale_input(angle):\n",
    "    # Ensure angle is within the range [-pi, pi)\n",
    "    angle = angle % (2 * math.pi)\n",
    "    # Ensure angle is positive\n",
    "    if angle < 0:\n",
    "        angle += 2 * math.pi\n",
    "    \n",
    "    # Determine the number of pi/2 rotations needed to bring the angle to the first quadrant\n",
    "    num_rotations = math.floor(angle / (0.5 * math.pi))\n",
    "    \n",
    "    # Compute the scaled angle in the first quadrant\n",
    "    scaled_angle = angle - num_rotations * (0.5 * math.pi)\n",
    "    \n",
    "    # Determine the sign based on the number of rotations\n",
    "    sign = 1 if num_rotations % 2 == 0 else - 1\n",
    "    \n",
    "    return scaled_angle, sign\n",
    "\n",
    "def CORDIC_TEST(angle_deg):\n",
    "      \n",
    "    #a test of cordic\n",
    "    print(f\"actual Value: {math.cos(math.radians(angle_deg))}\\n\")\n",
    "    if angle_deg == 0.0: return 0.0\n",
    "    if angle_deg == 45.0: return 0.7071067811865476\n",
    "    angle = math.radians(angle_deg)\n",
    "    angle, sign = scale_input(angle)\n",
    "    angles_radians = [math.radians(i) for i in angles_degrees]\n",
    "    \n",
    "    z = 0.0                     # angle\n",
    "    x = 1.0 / 1.646760258121    # x\n",
    "    y = 0.0                     # y\n",
    "    #fix 7 iterations\n",
    "    for i in range(8):\n",
    "        print(f\"z: {math.degrees(z)}, x: {x}, y: {y}\")\n",
    "        if (z < angle):\n",
    "            print(\"too small\")\n",
    "            z = z + angles_radians[i]\n",
    "            x_plus = x - (y * 2 ** (-i))\n",
    "            y_plus = y + (x * 2 ** (-i))\n",
    "            \n",
    "        elif (z > angle):\n",
    "            print(\"too big\")\n",
    "            z = z - angles_radians[i]\n",
    "            x_plus = x + (y * 2 ** (-i))\n",
    "            y_plus = y - (x * 2 ** (-i))\n",
    "            \n",
    "        else:\n",
    "            print(f\"Exact, Predicted Value: z = {math.degrees(z)} with cos(x) = {x}\")\n",
    "            return x\n",
    "        \n",
    "\n",
    "        x = x_plus\n",
    "        y = y_plus\n",
    "        \n",
    "    print(f\"\\nApproxamated Angle: {math.degrees(z)} with cos(z) = {x},\\nwith actual value: {math.cos(z)}\")\n",
    "    print(f\"The result will have a sign of: {sign}\")\n",
    "    \n",
    "    \n",
    "#45.0 + 26.56505118 - 14.03624347\n",
    "CORDIC_TEST(42)\n",
    "\n",
    "\n",
    "\n"
   ]
  },
  {
   "cell_type": "markdown",
   "metadata": {},
   "source": [
    "# Testing Input Scaling"
   ]
  },
  {
   "cell_type": "code",
   "execution_count": 61,
   "metadata": {},
   "outputs": [
    {
     "name": "stdout",
     "output_type": "stream",
     "text": [
      "Scaling 330.0 to be equal to 59.999999999999986 with sign -1\n"
     ]
    }
   ],
   "source": [
    "\n",
    "TEST = 330.0\n",
    "out, sign = scale_input(math.radians(TEST))\n",
    "print(f\"Scaling {(TEST)} to be equal to {math.degrees(out)} with sign {sign}\")"
   ]
  },
  {
   "cell_type": "markdown",
   "metadata": {},
   "source": [
    "# Generate Files"
   ]
  },
  {
   "cell_type": "code",
   "execution_count": 81,
   "metadata": {},
   "outputs": [
    {
     "name": "stdout",
     "output_type": "stream",
     "text": [
      "0.7853981633974483\n",
      "int: 0, frac; 7853981633.974483\n",
      "0.46364760905180485\n",
      "int: 0, frac; 4636476090.518048\n",
      "0.24497866316305394\n",
      "int: 0, frac; 2449786631.6305394\n",
      "0.12435499454847539\n",
      "int: 0, frac; 1243549945.4847538\n",
      "0.062418809996003584\n",
      "int: 0, frac; 624188099.9600358\n",
      "0.031239833425973557\n",
      "int: 0, frac; 312398334.2597356\n",
      "0.01562372861679289\n",
      "int: 0, frac; 156237286.1679289\n",
      "0.0078123410625349195\n",
      "int: 0, frac; 78123410.6253492\n",
      "0.003907975454786763\n",
      "int: 0, frac; 39079754.54786763\n",
      "0.0019531225153232904\n",
      "int: 0, frac; 19531225.153232902\n",
      "0.0009765621914127951\n",
      "int: 0, frac; 9765621.914127951\n",
      "0.00048828121787944514\n",
      "int: 0, frac; 4882812.178794451\n",
      "0.00024414061766636885\n",
      "int: 0, frac; 2441406.1766636884\n",
      "0.00012207031755983067\n",
      "int: 0, frac; 1220703.1755983068\n",
      "6.103515877991534e-05\n",
      "int: 0, frac; 610351.5877991534\n",
      "3.051757066331141e-05\n",
      "int: 0, frac; 305175.70663311414\n"
     ]
    }
   ],
   "source": [
    "# Number of sampling intervals\n",
    "FLOAT_BITS = 32\n",
    "UPPER_BITS = 16\n",
    "LOWER_BITS = 16\n",
    "\n",
    "\n",
    "def float_to_fixed_point(float_num, upper_bits, fractional_bits):\n",
    "    print(float_num)\n",
    "    integer_part = int(float_num)\n",
    "    fractional_part = math.modf(float_num)[0]  # modf returns a tuple (fractional, integer)\n",
    "    fractional_part *= 10**10\n",
    "    print(f\"int: {integer_part}, frac; {fractional_part}\")\n",
    "\n",
    "    #return binary_result\n",
    "\n",
    "\n",
    "\n",
    "def write_to_mem_file(filename, values):\n",
    "    with open(filename, 'w') as f:\n",
    "        for i, val in enumerate(values):\n",
    "            binary_val = float_to_fixed_point(val, UPPER_BITS, LOWER_BITS)\n",
    "            #f.write(f'4\\'b{bin(i)[2:].zfill(4)} <= 32\\'b{binary_val};\\n')\n",
    "            f.write(f'CORDIC_shifts[4\\'b{bin(i)[2:].zfill(4)}] <= 32\\'b{binary_val};\\n')\n",
    "\n",
    "\n",
    "\n",
    "\n",
    "\n",
    "\n",
    "#make_cordic_iters(FLOAT_BITS, UPPER_BITS, LOWER_BITS)\n",
    "values = [math.radians(i) for i in angles_degrees]\n",
    "write_to_mem_file(\"CORDIC_shifts_radians.mem\", values)\n",
    "\n"
   ]
  },
  {
   "cell_type": "markdown",
   "metadata": {},
   "source": [
    "# ERRORS\n",
    "\n",
    " mean error e is in the range [-0.5x10-6 , 0.5x10-6] withconfidence level of 95%, assuming an input x is under single precision format and follows a uniform distribution in the range [-1, 1] (i.e. the possible range of input given our problem). "
   ]
  }
 ],
 "metadata": {
  "kernelspec": {
   "display_name": "Python 3",
   "language": "python",
   "name": "python3"
  },
  "language_info": {
   "codemirror_mode": {
    "name": "ipython",
    "version": 3
   },
   "file_extension": ".py",
   "mimetype": "text/x-python",
   "name": "python",
   "nbconvert_exporter": "python",
   "pygments_lexer": "ipython3",
   "version": "3.12.2"
  }
 },
 "nbformat": 4,
 "nbformat_minor": 2
}
